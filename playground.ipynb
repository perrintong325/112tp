{
 "cells": [
  {
   "cell_type": "code",
   "execution_count": 1,
   "metadata": {},
   "outputs": [
    {
     "name": "stdout",
     "output_type": "stream",
     "text": [
      "0.3305084745762712 -572.2881355932203\n",
      "551.588329263967 -389.98351829411257\n",
      "439.96673710055205 -426.8754004498175\n",
      "-118 -39\n"
     ]
    }
   ],
   "source": [
    "import math\n",
    "p1 = (488,411)\n",
    "p2 = (370,450)\n",
    "r = 60\n",
    "cx = 492\n",
    "cy = -397\n",
    "gradient = ((-p2[1])-(-p1[1]))/(p2[0]-p1[0])\n",
    "c = (-p1[1]) - gradient*p1[0]\n",
    "print(gradient,c)\n",
    "result = []\n",
    "x = -(math.sqrt(((gradient**2)+1)*(r**2)-((cx**2)*(gradient**2))+(2*cx*cy-2*cx*c)*gradient-(cy**2)+(2*c*cy)-(c**2))+((c-cy)*gradient)-cx)/((gradient**2)+1)\n",
    "y = gradient*x+c\n",
    "result.append((x,y))\n",
    "x = (math.sqrt(((gradient**2)+1)*(r**2)-((cx**2)*(gradient**2))+(2*cx*cy-2*cx*c)*gradient-(cy**2)+(2*c*cy)-(c**2))+((cy-c)*gradient)+cx)/((gradient**2)+1)\n",
    "y = gradient*x+c\n",
    "result.append((x,y))\n",
    "dx = result[1][0]-result[0][0]\n",
    "dy = result[0][1] - result[1][1]\n",
    "angle = math.atan(dx/dy)* 360/ (2*math.pi)\n",
    "print(angle)"
   ]
  },
  {
   "cell_type": "code",
   "execution_count": null,
   "metadata": {},
   "outputs": [],
   "source": []
  }
 ],
 "metadata": {
  "interpreter": {
   "hash": "aee8b7b246df8f9039afb4144a1f6fd8d2ca17a180786b69acc140d282b71a49"
  },
  "kernelspec": {
   "display_name": "Python 3.9.12 64-bit",
   "language": "python",
   "name": "python3"
  },
  "language_info": {
   "codemirror_mode": {
    "name": "ipython",
    "version": 3
   },
   "file_extension": ".py",
   "mimetype": "text/x-python",
   "name": "python",
   "nbconvert_exporter": "python",
   "pygments_lexer": "ipython3",
   "version": "3.9.12"
  },
  "orig_nbformat": 4
 },
 "nbformat": 4,
 "nbformat_minor": 2
}
